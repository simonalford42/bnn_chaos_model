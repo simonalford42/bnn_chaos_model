{
 "cells": [
  {
   "cell_type": "code",
   "execution_count": 2,
   "metadata": {},
   "outputs": [
    {
     "name": "stderr",
     "output_type": "stream",
     "text": [
      "/Users/simon/mambaforge/lib/python3.10/site-packages/juliacall/__init__.py:60: UserWarning: torch was imported before juliacall. This may cause a segfault. To avoid this, import juliacall before importing torch. For updates, see https://github.com/pytorch/pytorch/issues/78829.\n",
      "  warnings.warn(\n"
     ]
    },
    {
     "name": "stdout",
     "output_type": "stream",
     "text": [
      "Detected Jupyter notebook. Loading juliacall extension. Set `PYSR_AUTOLOAD_EXTENSIONS=no` to disable.\n"
     ]
    }
   ],
   "source": [
    "import torch\n",
    "import pickle\n",
    "from matplotlib import pyplot as plt\n",
    "import numpy as np\n",
    "import pysr\n",
    "import math"
   ]
  },
  {
   "cell_type": "code",
   "execution_count": 3,
   "metadata": {},
   "outputs": [],
   "source": [
    "labels = ['time', 'e+_near', 'e-_near', 'max_strength_mmr_near', 'e+_far', 'e-_far', 'max_strength_mmr_far', 'megno', 'a1', 'e1', 'i1', 'cos_Omega1', 'sin_Omega1', 'cos_pomega1', 'sin_pomega1', 'cos_theta1', 'sin_theta1', 'a2', 'e2', 'i2', 'cos_Omega2', 'sin_Omega2', 'cos_pomega2', 'sin_pomega2', 'cos_theta2', 'sin_theta2', 'a3', 'e3', 'i3', 'cos_Omega3', 'sin_Omega3', 'cos_pomega3', 'sin_pomega3', 'cos_theta3', 'sin_theta3', 'm1', 'm2', 'm3', 'nan_mmr_near', 'nan_mmr_far', 'nan_megno']\n",
    "\n",
    "# not all of these labels are actually used. for training, these inputs are zeroed out, but still passed in as zeroes.\n",
    "# ideally, the linear layer ignores them, which does happen if i do l1 regularization to it\n",
    "skipped = ['nan_mmr_near', 'nan_mmr_far', 'nan_megno', 'e+_near', 'e-_near', 'max_strength_mmr_near', 'e+_far', 'e-_far', 'max_strength_mmr_far', 'megno']"
   ]
  },
  {
   "cell_type": "code",
<<<<<<< HEAD
   "execution_count": 8,
   "metadata": {},
   "outputs": [
    {
     "name": "stdout",
     "output_type": "stream",
     "text": [
      "['complexity', 'loss', 'score', 'equation', 'sympy_format', 'lambda_format']\n",
      "0                                             6.7952027\n",
      "1                                       (7.40236 - s11)\n",
      "2                     ((s14 ^ -0.34515792) - -3.673654)\n",
      "3             (((s14 ^ -0.3431603) - -4.3165917) - s11)\n",
      "4        (((s14 ^ -0.34238997) - -4.020728) - sin(m19))\n",
      "5     (((s14 ^ -0.4097145) - -4.020728) - (1.5008097...\n",
      "6     ((((s14 ^ -0.36284095) - -4.020728) - (1.50080...\n",
      "7     ((((s14 ^ -0.4097145) - -4.020728) - (1.500809...\n",
      "8     (((s14 ^ -0.36284095) - -4.020728) - ((1.50080...\n",
      "9     ((((s14 ^ -0.3431603) - -4.020728) - -0.927278...\n",
      "10    ((((s14 ^ -0.3431603) - -4.020728) - -0.927278...\n",
      "11    ((((s14 ^ -0.3431603) - -4.020728) - (sin(m5 *...\n",
      "12    ((((s14 ^ -0.3431603) - -4.020728) - (sin(m5 *...\n",
      "13    (((((s14 ^ -0.3431603) - -4.020728) - sin(m5 *...\n",
      "14    (((((s14 ^ -0.3431603) - -4.020728) - sin(m5 *...\n",
      "15    (((((s14 ^ -0.34238997) - -4.020728) - (sin(m5...\n",
      "16    (((((s14 ^ -0.3431603) - -4.020728) - (sin(m5 ...\n",
      "17    (((((s14 ^ -0.3431603) - -4.020728) - (sin((m5...\n",
      "18    (((((s14 ^ -0.3431603) - -4.020728) - (sin((m5...\n",
      "19    (((((s14 ^ -0.3431603) - -4.020728) - (sin((m5...\n",
      "20    (((((s14 ^ -0.3431603) - -4.020728) - (sin((m5...\n",
      "21    (((((s14 ^ -0.3431603) - -4.020728) - (sin((m5...\n",
      "22    ((((((s14 ^ -0.3431603) - -4.020728) - (sin((m...\n",
      "23    ((((((s14 ^ -0.3431603) - -4.020728) - (sin((m...\n",
      "Name: equation, dtype: object\n"
     ]
    }
   ],
   "source": [
    "import pickle\n",
    "\n",
    "# Path to the pickle file\n",
    "pickle_file_path = 'sr_results/37967.pkl'\n",
    "\n",
    "# Load the pickle file\n",
    "with open(pickle_file_path, 'rb') as file:\n",
    "    data = pickle.load(file)\n",
    "\n",
    "# Print the contents of the pickle file\n",
    "# print(data)\n",
    "# print(type(data.equations_))\n",
    "# print([type(s) for s in data.equations_])\n",
    "print([s for s in data.equations_])\n",
    "print(data.equations_['equation'])"
   ]
  },
  {
   "cell_type": "code",
   "execution_count": 3,
=======
   "execution_count": 4,
>>>>>>> 92bac98a792c57a4a1c02614ff309c4953f58451
   "metadata": {},
   "outputs": [],
   "source": [
    "# l1 reg = 2: 95944\n",
    "# feature_nn = torch.load('models/95944_feature_nn.pt')\n",
    "\n",
    "# l1 reg = 0.2: 92122\n",
    "# feature_nn = torch.load('models/92122_feature_nn.pt')\n",
    "\n",
    "# l1 nonabs reg: 63524\n",
    "# feature_nn = torch.load('models/63524_feature_nn.pt')\n",
    "\n",
    "# this gives the (n_features, n_inputs) matrix of the linear transformation used as f1\n",
    "# input_linear = feature_nn.weight.detach().numpy()\n",
    "# input_bias = feature_nn.bias.detach().numpy()\n",
    "# input_linear.shape"
   ]
  },
  {
   "cell_type": "code",
   "execution_count": 5,
   "metadata": {},
   "outputs": [
    {
     "ename": "TypeError",
     "evalue": "'Linear' object is not subscriptable",
     "output_type": "error",
     "traceback": [
      "\u001b[0;31m---------------------------------------------------------------------------\u001b[0m",
      "\u001b[0;31mTypeError\u001b[0m                                 Traceback (most recent call last)",
      "\u001b[0;32m<ipython-input-4-4caf12149f7c>\u001b[0m in \u001b[0;36m<module>\u001b[0;34m\u001b[0m\n\u001b[1;32m     16\u001b[0m \u001b[0;31m# products3 sin&cos\u001b[0m\u001b[0;34m\u001b[0m\u001b[0;34m\u001b[0m\u001b[0;34m\u001b[0m\u001b[0m\n\u001b[1;32m     17\u001b[0m \u001b[0mfeature_nn\u001b[0m \u001b[0;34m=\u001b[0m \u001b[0mtorch\u001b[0m\u001b[0;34m.\u001b[0m\u001b[0mload\u001b[0m\u001b[0;34m(\u001b[0m\u001b[0;34m'models/8218_feature_nn.pt'\u001b[0m\u001b[0;34m)\u001b[0m\u001b[0;34m\u001b[0m\u001b[0;34m\u001b[0m\u001b[0m\n\u001b[0;32m---> 18\u001b[0;31m \u001b[0mfeature_nn\u001b[0m \u001b[0;34m=\u001b[0m \u001b[0mfeature_nn\u001b[0m\u001b[0;34m[\u001b[0m\u001b[0;36m1\u001b[0m\u001b[0;34m]\u001b[0m\u001b[0;34m\u001b[0m\u001b[0;34m\u001b[0m\u001b[0m\n\u001b[0m",
      "\u001b[0;31mTypeError\u001b[0m: 'Linear' object is not subscriptable"
     ]
    }
   ],
   "source": [
    "# topk 2 pruned masked linear\n",
    "# feature_nn = torch.load('models/52410_feature_nn.pt')\n",
    "\n",
    "# topk2 pruned masked linear 3750\n",
    "# feature_nn = torch.load('models/57964_feature_nn.pt')\n",
    "\n",
    "# topk2 pruned masked linear 7500 again\n",
    "# feature_nn = torch.load('models/2762_feature_nn.pt')\n",
    "\n",
    "# another one\n",
<<<<<<< HEAD
    "# feature_nn = torch.load('models/55549_feature_nn.pt')\n",
    "\n",
    "# products3 cos only\n",
    "# feature_nn = torch.load('models/7923_feature_nn.pt')\n",
    "\n",
    "# products3 sin&cos\n",
    "feature_nn = torch.load('models/8218_feature_nn.pt')\n",
    "feature_nn = feature_nn[1]"
=======
    "feature_nn = torch.load('models/43139_feature_nn.pt')\n"
>>>>>>> 92bac98a792c57a4a1c02614ff309c4953f58451
   ]
  },
  {
   "cell_type": "code",
   "execution_count": 6,
   "metadata": {},
   "outputs": [
    {
<<<<<<< HEAD
     "name": "stdout",
     "output_type": "stream",
     "text": [
      "Sequential(\n",
      "  (0): Products3()\n",
      "  (1): Linear(in_features=41, out_features=20, bias=False)\n",
      ")\n",
      "<class 'torch.nn.modules.linear.Linear'>\n"
=======
     "ename": "NameError",
     "evalue": "name 'input_linear' is not defined",
     "output_type": "error",
     "traceback": [
      "\u001b[0;31m---------------------------------------------------------------------------\u001b[0m",
      "\u001b[0;31mNameError\u001b[0m                                 Traceback (most recent call last)",
      "Cell \u001b[0;32mIn[6], line 1\u001b[0m\n\u001b[0;32m----> 1\u001b[0m \u001b[43minput_linear\u001b[49m\u001b[38;5;241m.\u001b[39mshape\n\u001b[1;32m      2\u001b[0m input_linear \u001b[38;5;241m=\u001b[39m feature_nn\u001b[38;5;241m.\u001b[39mlinear\u001b[38;5;241m.\u001b[39mweight \u001b[38;5;241m*\u001b[39m feature_nn\u001b[38;5;241m.\u001b[39mmask\n\u001b[1;32m      3\u001b[0m l \u001b[38;5;241m=\u001b[39m input_linear\u001b[38;5;241m.\u001b[39mabs()\u001b[38;5;241m.\u001b[39msum(dim\u001b[38;5;241m=\u001b[39m\u001b[38;5;241m-\u001b[39m\u001b[38;5;241m1\u001b[39m)\n",
      "\u001b[0;31mNameError\u001b[0m: name 'input_linear' is not defined"
>>>>>>> 92bac98a792c57a4a1c02614ff309c4953f58451
     ]
    }
   ],
   "source": [
    "from modules import Products3\n",
    "model = Products3()\n",
    "import torch.nn as nn \n",
    "f1 = nn.Sequential(Products3(), feature_nn)\n",
    "feature_nn = f1\n",
    "print(feature_nn)\n",
    "feature_nn = f1[1]\n",
    "print(type(feature_nn))"
   ]
  },
  {
   "cell_type": "code",
   "execution_count": 12,
   "metadata": {},
   "outputs": [
    {
     "ename": "AttributeError",
     "evalue": "'Linear' object has no attribute 'linear'",
     "output_type": "error",
     "traceback": [
      "\u001b[0;31m---------------------------------------------------------------------------\u001b[0m",
      "\u001b[0;31mAttributeError\u001b[0m                            Traceback (most recent call last)",
      "\u001b[0;32m<ipython-input-12-d0bef9e4f89a>\u001b[0m in \u001b[0;36m<module>\u001b[0;34m\u001b[0m\n\u001b[1;32m      1\u001b[0m \u001b[0;31m#input_linear.shape\u001b[0m\u001b[0;34m\u001b[0m\u001b[0;34m\u001b[0m\u001b[0;34m\u001b[0m\u001b[0m\n\u001b[0;32m----> 2\u001b[0;31m \u001b[0minput_linear\u001b[0m \u001b[0;34m=\u001b[0m \u001b[0mfeature_nn\u001b[0m\u001b[0;34m.\u001b[0m\u001b[0mlinear\u001b[0m\u001b[0;34m.\u001b[0m\u001b[0mweight\u001b[0m \u001b[0;34m*\u001b[0m \u001b[0mfeature_nn\u001b[0m\u001b[0;34m.\u001b[0m\u001b[0mmask\u001b[0m\u001b[0;34m\u001b[0m\u001b[0;34m\u001b[0m\u001b[0m\n\u001b[0m\u001b[1;32m      3\u001b[0m \u001b[0ml\u001b[0m \u001b[0;34m=\u001b[0m \u001b[0minput_linear\u001b[0m\u001b[0;34m.\u001b[0m\u001b[0mabs\u001b[0m\u001b[0;34m(\u001b[0m\u001b[0;34m)\u001b[0m\u001b[0;34m.\u001b[0m\u001b[0msum\u001b[0m\u001b[0;34m(\u001b[0m\u001b[0mdim\u001b[0m\u001b[0;34m=\u001b[0m\u001b[0;34m-\u001b[0m\u001b[0;36m1\u001b[0m\u001b[0;34m)\u001b[0m\u001b[0;34m\u001b[0m\u001b[0;34m\u001b[0m\u001b[0m\n\u001b[1;32m      4\u001b[0m \u001b[0ml\u001b[0m\u001b[0;34m[\u001b[0m\u001b[0ml\u001b[0m \u001b[0;34m<\u001b[0m \u001b[0;36m1\u001b[0m\u001b[0;34m]\u001b[0m \u001b[0;34m=\u001b[0m \u001b[0;36m0\u001b[0m\u001b[0;34m\u001b[0m\u001b[0;34m\u001b[0m\u001b[0m\n\u001b[1;32m      5\u001b[0m \u001b[0mprint\u001b[0m\u001b[0;34m(\u001b[0m\u001b[0ml\u001b[0m\u001b[0;34m[\u001b[0m\u001b[0ml\u001b[0m \u001b[0;34m>\u001b[0m \u001b[0;36m1\u001b[0m\u001b[0;34m]\u001b[0m\u001b[0;34m)\u001b[0m\u001b[0;34m\u001b[0m\u001b[0;34m\u001b[0m\u001b[0m\n",
      "\u001b[0;32m~/.conda/envs/bnn_chaos_model/lib/python3.7/site-packages/torch/nn/modules/module.py\u001b[0m in \u001b[0;36m__getattr__\u001b[0;34m(self, name)\u001b[0m\n\u001b[1;32m   1268\u001b[0m                 \u001b[0;32mreturn\u001b[0m \u001b[0mmodules\u001b[0m\u001b[0;34m[\u001b[0m\u001b[0mname\u001b[0m\u001b[0;34m]\u001b[0m\u001b[0;34m\u001b[0m\u001b[0;34m\u001b[0m\u001b[0m\n\u001b[1;32m   1269\u001b[0m         raise AttributeError(\"'{}' object has no attribute '{}'\".format(\n\u001b[0;32m-> 1270\u001b[0;31m             type(self).__name__, name))\n\u001b[0m\u001b[1;32m   1271\u001b[0m \u001b[0;34m\u001b[0m\u001b[0m\n\u001b[1;32m   1272\u001b[0m     \u001b[0;32mdef\u001b[0m \u001b[0m__setattr__\u001b[0m\u001b[0;34m(\u001b[0m\u001b[0mself\u001b[0m\u001b[0;34m,\u001b[0m \u001b[0mname\u001b[0m\u001b[0;34m:\u001b[0m \u001b[0mstr\u001b[0m\u001b[0;34m,\u001b[0m \u001b[0mvalue\u001b[0m\u001b[0;34m:\u001b[0m \u001b[0mUnion\u001b[0m\u001b[0;34m[\u001b[0m\u001b[0mTensor\u001b[0m\u001b[0;34m,\u001b[0m \u001b[0;34m'Module'\u001b[0m\u001b[0;34m]\u001b[0m\u001b[0;34m)\u001b[0m \u001b[0;34m->\u001b[0m \u001b[0;32mNone\u001b[0m\u001b[0;34m:\u001b[0m\u001b[0;34m\u001b[0m\u001b[0;34m\u001b[0m\u001b[0m\n",
      "\u001b[0;31mAttributeError\u001b[0m: 'Linear' object has no attribute 'linear'"
     ]
    }
   ],
   "source": [
    "#input_linear.shape\n",
    "input_linear = feature_nn.linear.weight * feature_nn.mask\n",
    "l = input_linear.abs().sum(dim=-1)\n",
    "l[l < 1] = 0\n",
    "print(l[l > 1])\n",
    "_, ixs = torch.topk(input_linear.abs().sum(dim=-1), 10)\n",
    "l[~ixs] = 0\n",
    "print(l)\n"
   ]
  },
  {
   "cell_type": "code",
   "execution_count": 5,
   "metadata": {},
   "outputs": [
    {
     "ename": "AttributeError",
     "evalue": "'Sequential' object has no attribute 'linear'",
     "output_type": "error",
     "traceback": [
      "\u001b[0;31m---------------------------------------------------------------------------\u001b[0m",
      "\u001b[0;31mAttributeError\u001b[0m                            Traceback (most recent call last)",
      "\u001b[0;32m<ipython-input-5-9cf2c8cb3ef0>\u001b[0m in \u001b[0;36m<module>\u001b[0;34m\u001b[0m\n\u001b[0;32m----> 1\u001b[0;31m \u001b[0minput_linear\u001b[0m \u001b[0;34m=\u001b[0m \u001b[0mfeature_nn\u001b[0m\u001b[0;34m.\u001b[0m\u001b[0mlinear\u001b[0m\u001b[0;34m.\u001b[0m\u001b[0mweight\u001b[0m \u001b[0;34m*\u001b[0m \u001b[0mfeature_nn\u001b[0m\u001b[0;34m.\u001b[0m\u001b[0mmask\u001b[0m\u001b[0;34m\u001b[0m\u001b[0;34m\u001b[0m\u001b[0m\n\u001b[0m\u001b[1;32m      2\u001b[0m \u001b[0minput_linear\u001b[0m \u001b[0;34m=\u001b[0m \u001b[0minput_linear\u001b[0m\u001b[0;34m.\u001b[0m\u001b[0mdetach\u001b[0m\u001b[0;34m(\u001b[0m\u001b[0;34m)\u001b[0m\u001b[0;34m.\u001b[0m\u001b[0mnumpy\u001b[0m\u001b[0;34m(\u001b[0m\u001b[0;34m)\u001b[0m\u001b[0;34m\u001b[0m\u001b[0;34m\u001b[0m\u001b[0m\n\u001b[1;32m      3\u001b[0m \u001b[0;32mif\u001b[0m \u001b[0mfeature_nn\u001b[0m\u001b[0;34m.\u001b[0m\u001b[0mlinear\u001b[0m\u001b[0;34m.\u001b[0m\u001b[0mbias\u001b[0m \u001b[0;32mis\u001b[0m \u001b[0;32mnot\u001b[0m \u001b[0;32mNone\u001b[0m\u001b[0;34m:\u001b[0m\u001b[0;34m\u001b[0m\u001b[0;34m\u001b[0m\u001b[0m\n\u001b[1;32m      4\u001b[0m     \u001b[0minput_bias\u001b[0m \u001b[0;34m=\u001b[0m \u001b[0mfeature_nn\u001b[0m\u001b[0;34m.\u001b[0m\u001b[0mlinear\u001b[0m\u001b[0;34m.\u001b[0m\u001b[0mbias\u001b[0m\u001b[0;34m.\u001b[0m\u001b[0mdetach\u001b[0m\u001b[0;34m(\u001b[0m\u001b[0;34m)\u001b[0m\u001b[0;34m.\u001b[0m\u001b[0mnumpy\u001b[0m\u001b[0;34m(\u001b[0m\u001b[0;34m)\u001b[0m\u001b[0;34m\u001b[0m\u001b[0;34m\u001b[0m\u001b[0m\n\u001b[1;32m      5\u001b[0m \u001b[0;32melse\u001b[0m\u001b[0;34m:\u001b[0m\u001b[0;34m\u001b[0m\u001b[0;34m\u001b[0m\u001b[0m\n",
      "\u001b[0;32m~/.conda/envs/bnn_chaos_model/lib/python3.7/site-packages/torch/nn/modules/module.py\u001b[0m in \u001b[0;36m__getattr__\u001b[0;34m(self, name)\u001b[0m\n\u001b[1;32m   1268\u001b[0m                 \u001b[0;32mreturn\u001b[0m \u001b[0mmodules\u001b[0m\u001b[0;34m[\u001b[0m\u001b[0mname\u001b[0m\u001b[0;34m]\u001b[0m\u001b[0;34m\u001b[0m\u001b[0;34m\u001b[0m\u001b[0m\n\u001b[1;32m   1269\u001b[0m         raise AttributeError(\"'{}' object has no attribute '{}'\".format(\n\u001b[0;32m-> 1270\u001b[0;31m             type(self).__name__, name))\n\u001b[0m\u001b[1;32m   1271\u001b[0m \u001b[0;34m\u001b[0m\u001b[0m\n\u001b[1;32m   1272\u001b[0m     \u001b[0;32mdef\u001b[0m \u001b[0m__setattr__\u001b[0m\u001b[0;34m(\u001b[0m\u001b[0mself\u001b[0m\u001b[0;34m,\u001b[0m \u001b[0mname\u001b[0m\u001b[0;34m:\u001b[0m \u001b[0mstr\u001b[0m\u001b[0;34m,\u001b[0m \u001b[0mvalue\u001b[0m\u001b[0;34m:\u001b[0m \u001b[0mUnion\u001b[0m\u001b[0;34m[\u001b[0m\u001b[0mTensor\u001b[0m\u001b[0;34m,\u001b[0m \u001b[0;34m'Module'\u001b[0m\u001b[0;34m]\u001b[0m\u001b[0;34m)\u001b[0m \u001b[0;34m->\u001b[0m \u001b[0;32mNone\u001b[0m\u001b[0;34m:\u001b[0m\u001b[0;34m\u001b[0m\u001b[0;34m\u001b[0m\u001b[0m\n",
      "\u001b[0;31mAttributeError\u001b[0m: 'Sequential' object has no attribute 'linear'"
     ]
    }
   ],
   "source": [
    "input_linear = feature_nn.linear.weight * feature_nn.mask\n",
    "input_linear = input_linear.detach().numpy()\n",
    "if feature_nn.linear.bias is not None:\n",
    "    input_bias = feature_nn.linear.bias.detach().numpy()\n",
    "else:\n",
    "    input_bias = np.zeros(input_linear.shape[0])"
   ]
  },
  {
   "cell_type": "code",
   "execution_count": 7,
   "metadata": {},
   "outputs": [],
   "source": [
    "# m_i is the mean of the i'th feature, s_i is the standard deviation\n",
    "# get the linear transformation that creates feature i\n",
    "def linear_transformation(i):\n",
    "    return input_linear[i]"
   ]
  },
  {
   "cell_type": "code",
<<<<<<< HEAD
   "execution_count": 8,
=======
   "execution_count": 9,
>>>>>>> 92bac98a792c57a4a1c02614ff309c4953f58451
   "metadata": {},
   "outputs": [],
   "source": [
    "\n",
    "# let's make the linear transformation a bit easier to read\n",
    "def format_num(x):\n",
    "    if abs(x) > 0.1:\n",
    "        return f'{x:.2f}'\n",
    "    if abs(x) > 0.01:\n",
    "        return f'{x:.3f}'\n",
    "    elif abs(x) > 0.001:\n",
    "        return f'{x:.4f}'\n",
    "    else:\n",
    "        return f'{x:.2e}'\n",
    "\n",
    "format_vec = np.vectorize(format_num)"
   ]
  },
  {
   "cell_type": "code",
<<<<<<< HEAD
   "execution_count": 9,
=======
   "execution_count": 10,
>>>>>>> 92bac98a792c57a4a1c02614ff309c4953f58451
   "metadata": {},
   "outputs": [],
   "source": [
    "# now we can write it as a combination of the input features\n",
    "# we'll sort the features by their absolute value to make it a bit easier to read\n",
    "def feature_equation(i):\n",
    "    transformation = linear_transformation(i)\n",
    "    bias = input_bias[i]\n",
    "    sorted_ixs = np.argsort(np.abs(transformation))[::-1]\n",
    "    features = [format_num(transformation[i]) + ' * ' + labels[i] for i in sorted_ixs if transformation[i] != 0]\n",
    "    if bias != 0:\n",
    "        features = [format_num(bias)] + features\n",
    "\n",
    "    return features"
   ]
  },
  {
   "cell_type": "code",
<<<<<<< HEAD
   "execution_count": 10,
   "metadata": {},
   "outputs": [
    {
     "ename": "NameError",
     "evalue": "name 'input_linear' is not defined",
     "output_type": "error",
     "traceback": [
      "\u001b[0;31m---------------------------------------------------------------------------\u001b[0m",
      "\u001b[0;31mNameError\u001b[0m                                 Traceback (most recent call last)",
      "\u001b[0;32m<ipython-input-10-b696dfad00b1>\u001b[0m in \u001b[0;36m<module>\u001b[0;34m\u001b[0m\n\u001b[0;32m----> 1\u001b[0;31m \u001b[0;32mfor\u001b[0m \u001b[0mi\u001b[0m \u001b[0;32min\u001b[0m \u001b[0mrange\u001b[0m\u001b[0;34m(\u001b[0m\u001b[0minput_linear\u001b[0m\u001b[0;34m.\u001b[0m\u001b[0mshape\u001b[0m\u001b[0;34m[\u001b[0m\u001b[0;36m0\u001b[0m\u001b[0;34m]\u001b[0m\u001b[0;34m)\u001b[0m\u001b[0;34m:\u001b[0m\u001b[0;34m\u001b[0m\u001b[0;34m\u001b[0m\u001b[0m\n\u001b[0m\u001b[1;32m      2\u001b[0m     \u001b[0mprint\u001b[0m\u001b[0;34m(\u001b[0m\u001b[0mstr\u001b[0m\u001b[0;34m(\u001b[0m\u001b[0mi\u001b[0m\u001b[0;34m)\u001b[0m \u001b[0;34m+\u001b[0m \u001b[0;34m\": \"\u001b[0m \u001b[0;34m+\u001b[0m \u001b[0;34m' + '\u001b[0m\u001b[0;34m.\u001b[0m\u001b[0mjoin\u001b[0m\u001b[0;34m(\u001b[0m\u001b[0mfeature_equation\u001b[0m\u001b[0;34m(\u001b[0m\u001b[0mi\u001b[0m\u001b[0;34m)\u001b[0m\u001b[0;34m)\u001b[0m\u001b[0;34m)\u001b[0m\u001b[0;34m\u001b[0m\u001b[0;34m\u001b[0m\u001b[0m\n",
      "\u001b[0;31mNameError\u001b[0m: name 'input_linear' is not defined"
=======
   "execution_count": null,
   "metadata": {},
   "outputs": [],
   "source": []
  },
  {
   "cell_type": "code",
   "execution_count": null,
   "metadata": {},
   "outputs": [],
   "source": []
  },
  {
   "cell_type": "code",
   "execution_count": 11,
   "metadata": {},
   "outputs": [
    {
     "name": "stdout",
     "output_type": "stream",
     "text": [
      "0: 0.045 * cos_pomega3 + -0.0038 * cos_Omega3\n",
      "1: 0.021 * cos_pomega3 + 0.015 * cos_Omega1\n",
      "2: -1.59 * e3 + 1.16 * e2\n",
      "3: -0.020 * sin_pomega1 + -0.011 * m3\n",
      "4: -0.012 * sin_Omega3 + -0.0061 * e2\n",
      "5: 1.98 * m1 + -0.68 * a3\n",
      "6: -0.0051 * cos_pomega1 + -0.0027 * e2\n",
      "7: 0.0047 * sin_pomega2 + 0.0019 * i2\n",
      "8: -0.010 * cos_pomega1 + 6.65e-04 * a3\n",
      "9: 0.027 * sin_Omega2 + -0.014 * cos_Omega2\n",
      "10: 0.0072 * m3 + 0.0014 * sin_Omega3\n",
      "11: 0.0069 * a3 + 0.0038 * a2\n",
      "12: 9.26e-04 * cos_Omega3 + -5.28e-04 * m1\n",
      "13: -0.91 * e2 + -0.91 * e3\n",
      "14: -1.52 * m3 + 0.0069 * a1\n",
      "15: -0.011 * sin_pomega2 + -0.0037 * e1\n",
      "16: -0.012 * sin_pomega1 + -0.0014 * a3\n",
      "17: 0.0014 * sin_Omega3 + 3.85e-04 * e1\n",
      "18: 0.0087 * e1 + 0.0020 * m1\n",
      "19: 0.10 * cos_pomega3 + -0.0097 * sin_Omega1\n",
      "20: 0.016 * sin_pomega1 + -5.29e-04 * sin_Omega3\n",
      "21: 0.0022 * m1 + -1.35e-04 * cos_Omega2\n",
      "22: -1.31 * i1 + 0.54 * i3\n",
      "23: -0.87 * sin_pomega1 + 0.73 * sin_pomega2\n",
      "24: \n",
      "25: \n",
      "26: \n",
      "27: \n",
      "28: \n",
      "29: -1.41 * m2 + 0.23 * e3\n",
      "30: -0.0012 * a2 + 4.41e-04 * m1\n",
      "31: -0.021 * cos_pomega3 + 8.88e-04 * sin_Omega3\n",
      "32: -7.68e-04 * cos_Omega3 + 4.36e-04 * e2\n",
      "33: -0.93 * cos_Omega2 + 0.0046 * e3\n",
      "34: 6.20 * a2 + -5.83 * a3\n",
      "35: -0.017 * sin_Omega1 + 0.0023 * m1\n",
      "36: -1.05 * sin_pomega3 + -0.14 * sin_Omega3\n",
      "37: 0.0013 * m1 + -2.75e-04 * nan_mmr_far\n",
      "38: 0.014 * m1 + 0.0028 * a2\n",
      "39: -0.0049 * sin_Omega2 + -0.0015 * m3\n",
      "40: 0.012 * sin_pomega2 + 9.67e-04 * i3\n",
      "41: -1.80 * a3 + 0.65 * m3\n",
      "42: -0.020 * cos_Omega1 + 0.0017 * m1\n",
      "43: -0.0081 * a2 + -0.0064 * sin_pomega3\n",
      "44: -0.0029 * e2 + -0.0027 * a2\n",
      "45: -0.0040 * cos_pomega2 + 0.0022 * a3\n",
      "46: 0.0052 * cos_Omega3 + -7.00e-04 * a2\n",
      "47: -0.0055 * cos_Omega1 + -8.15e-04 * i2\n",
      "48: 0.82 * sin_Omega2 + -0.64 * sin_Omega1\n",
      "49: -1.08 * sin_pomega2 + 0.0086 * m3\n",
      "50: -0.017 * sin_pomega1 + -8.79e-04 * m1\n",
      "51: 0.0030 * e3 + 0.0015 * e2\n",
      "52: 1.81 * e1 + -0.78 * e2\n",
      "53: -0.022 * cos_Omega2 + 0.0060 * sin_Omega3\n",
      "54: 0.30 * cos_pomega3 + -0.045 * sin_pomega1\n",
      "55: 0.69 * cos_pomega2 + 0.0053 * a2\n",
      "56: 0.0052 * m3 + -0.0014 * a2\n",
      "57: 0.0026 * m3 + -0.0012 * a3\n",
      "58: 0.020 * sin_Omega3 + -0.0069 * sin_pomega1\n",
      "59: -0.0064 * sin_pomega3 + 0.0013 * m3\n",
      "60: 0.0091 * cos_Omega1 + -0.0043 * sin_pomega1\n",
      "61: -0.0051 * a3 + 0.0014 * e1\n",
      "62: -0.0068 * sin_Omega1 + 0.0040 * m1\n",
      "63: -1.15 * i3 + -0.13 * m3\n",
      "64: -0.99 * cos_Omega3 + 0.22 * cos_Omega2\n",
      "65: -0.013 * sin_pomega2 + 0.0054 * a2\n",
      "66: 0.74 * i2 + 0.27 * i3\n",
      "67: -0.011 * i2 + 9.65e-05 * m3\n",
      "68: 0.020 * sin_Omega3 + 0.0047 * a2\n",
      "69: -0.033 * sin_pomega1 + 0.010 * sin_Omega2\n",
      "70: 0.012 * sin_Omega3 + 0.011 * cos_pomega3\n",
      "71: -0.0089 * sin_Omega3 + -0.0053 * cos_Omega3\n",
      "72: 3.20e-04 * m3 + -1.68e-04 * cos_Omega3\n",
      "73: 1.01 * sin_Omega3 + 0.037 * cos_pomega1\n",
      "74: -0.0063 * sin_Omega1 + 0.0049 * e1\n",
      "75: -0.0019 * sin_pomega1 + 0.0018 * e2\n",
      "76: -1.74 * a1 + 0.34 * a2\n",
      "77: 0.0057 * e2 + -7.40e-04 * a3\n",
      "78: -0.0091 * cos_pomega1 + 0.0077 * sin_Omega3\n",
      "79: -1.15 * e2 + -0.019 * i2\n"
>>>>>>> 92bac98a792c57a4a1c02614ff309c4953f58451
     ]
    }
   ],
   "source": [
    "for i in range(input_linear.shape[0]):\n",
    "    print(str(i) + \": \" + ' + '.join(feature_equation(i)))"
   ]
  },
  {
   "cell_type": "code",
<<<<<<< HEAD
   "execution_count": 11,
=======
   "execution_count": null,
   "metadata": {},
   "outputs": [],
   "source": [
    "# nan_mmr_far: is mmr between inner/outer planets is nan?\n",
    "# try simplifying manually: 34 could be std(a2 - a3)\n",
    "# if not close to MMR, a_i are approximately conserved, otherwise changes more. measures closeness to resonance?\n",
    "# could try giving megno to f2?\n",
    "# petit megno plot:\n",
    "# compare megno to these plots. do a linear fit of megno to instability time. subtract predicted.\n",
    "\n",
    "# heat map of the f1 features.\n",
    "# take the lower left corner. just fit an equation to there.\n",
    "# repeat for other boxes...\n",
    "\n",
    "\n",
    "# 34: 6.20 * a2 + -5.83 * a3\n",
    "# 61: -0.0051 * a3 + 0.0014 * e1\n",
    "# 43: -0.0081 * a2 + -0.0064 * sin_pomega3\n",
    "# 37: 0.0013 * m1 + -2.75e-04 * nan_mmr_far\n",
    "# 14: -1.52 * m3 + 0.0069 * a1\n",
    "# equation of complexity 9:\n",
    "# ((0.96191245 / (0.14181688 + s34)) - (((m61 - s43) + m37) / s14))"
   ]
  },
  {
   "cell_type": "code",
   "execution_count": 52,
>>>>>>> 92bac98a792c57a4a1c02614ff309c4953f58451
   "metadata": {},
   "outputs": [],
   "source": [
    "def features_used(i):\n",
    "    transformation = linear_transformation(i)\n",
    "    sorted_ixs = np.argsort(np.abs(transformation))[::-1]\n",
    "    return ', '.join([labels[i] for i in sorted_ixs if transformation[i] != 0])\n",
    "\n",
    "def feature_equation2(i):\n",
    "    transformation = linear_transformation(i)\n",
    "    bias = input_bias[i]\n",
    "    sorted_ixs = np.argsort(np.abs(transformation))[::-1]\n",
    "    v = [format_num(bias)]\n",
    "    for i in sorted_ixs:\n",
    "        if transformation[i] != 0:\n",
    "            v.append(format_num(transformation[i]))\n",
    "            v.append(labels[i])\n",
    "\n",
    "    return v"
   ]
  },
  {
   "cell_type": "code",
   "execution_count": 12,
   "metadata": {},
   "outputs": [
    {
     "ename": "NameError",
     "evalue": "name 'input_linear' is not defined",
     "output_type": "error",
     "traceback": [
      "\u001b[0;31m---------------------------------------------------------------------------\u001b[0m",
      "\u001b[0;31mNameError\u001b[0m                                 Traceback (most recent call last)",
      "\u001b[0;32m<ipython-input-12-c021eba08145>\u001b[0m in \u001b[0;36m<module>\u001b[0;34m\u001b[0m\n\u001b[0;32m----> 1\u001b[0;31m \u001b[0mixs\u001b[0m \u001b[0;34m=\u001b[0m \u001b[0;34m[\u001b[0m\u001b[0;34m(\u001b[0m\u001b[0mi\u001b[0m\u001b[0;34m,\u001b[0m \u001b[0mfeatures_used\u001b[0m\u001b[0;34m(\u001b[0m\u001b[0mi\u001b[0m\u001b[0;34m)\u001b[0m\u001b[0;34m)\u001b[0m \u001b[0;32mfor\u001b[0m \u001b[0mi\u001b[0m \u001b[0;32min\u001b[0m \u001b[0mrange\u001b[0m\u001b[0;34m(\u001b[0m\u001b[0minput_linear\u001b[0m\u001b[0;34m.\u001b[0m\u001b[0mshape\u001b[0m\u001b[0;34m[\u001b[0m\u001b[0;36m0\u001b[0m\u001b[0;34m]\u001b[0m\u001b[0;34m)\u001b[0m\u001b[0;34m]\u001b[0m\u001b[0;34m\u001b[0m\u001b[0;34m\u001b[0m\u001b[0m\n\u001b[0m\u001b[1;32m      2\u001b[0m \u001b[0msorted_ixs\u001b[0m \u001b[0;34m=\u001b[0m \u001b[0msorted\u001b[0m\u001b[0;34m(\u001b[0m\u001b[0mixs\u001b[0m\u001b[0;34m,\u001b[0m \u001b[0mkey\u001b[0m\u001b[0;34m=\u001b[0m\u001b[0;32mlambda\u001b[0m \u001b[0mx\u001b[0m\u001b[0;34m:\u001b[0m \u001b[0mx\u001b[0m\u001b[0;34m[\u001b[0m\u001b[0;36m1\u001b[0m\u001b[0;34m]\u001b[0m\u001b[0;34m)\u001b[0m\u001b[0;34m\u001b[0m\u001b[0;34m\u001b[0m\u001b[0m\n\u001b[1;32m      3\u001b[0m \u001b[0mvalues\u001b[0m \u001b[0;34m=\u001b[0m \u001b[0;34m[\u001b[0m\u001b[0;34m]\u001b[0m\u001b[0;34m\u001b[0m\u001b[0;34m\u001b[0m\u001b[0m\n\u001b[1;32m      4\u001b[0m \u001b[0;32mfor\u001b[0m \u001b[0mi\u001b[0m\u001b[0;34m,\u001b[0m \u001b[0m_\u001b[0m \u001b[0;32min\u001b[0m \u001b[0msorted_ixs\u001b[0m\u001b[0;34m:\u001b[0m\u001b[0;34m\u001b[0m\u001b[0;34m\u001b[0m\u001b[0m\n\u001b[1;32m      5\u001b[0m     \u001b[0mprint\u001b[0m\u001b[0;34m(\u001b[0m\u001b[0mstr\u001b[0m\u001b[0;34m(\u001b[0m\u001b[0mi\u001b[0m\u001b[0;34m)\u001b[0m \u001b[0;34m+\u001b[0m \u001b[0;34m\", \"\u001b[0m \u001b[0;34m+\u001b[0m \u001b[0;34m' , '\u001b[0m\u001b[0;34m.\u001b[0m\u001b[0mjoin\u001b[0m\u001b[0;34m(\u001b[0m\u001b[0mfeature_equation\u001b[0m\u001b[0;34m(\u001b[0m\u001b[0mi\u001b[0m\u001b[0;34m)\u001b[0m\u001b[0;34m)\u001b[0m\u001b[0;34m)\u001b[0m\u001b[0;34m\u001b[0m\u001b[0;34m\u001b[0m\u001b[0m\n",
      "\u001b[0;31mNameError\u001b[0m: name 'input_linear' is not defined"
     ]
    }
   ],
   "source": [
    "ixs = [(i, features_used(i)) for i in range(input_linear.shape[0])]\n",
    "sorted_ixs = sorted(ixs, key=lambda x: x[1])\n",
    "values = []\n",
    "for i, _ in sorted_ixs:\n",
    "    print(str(i) + \", \" + ' , '.join(feature_equation(i)))\n",
    "    values.append([i] + feature_equation2(i))"
   ]
  },
  {
   "cell_type": "code",
   "execution_count": null,
   "metadata": {},
   "outputs": [],
   "source": [
    "# values3 = values\n",
    "# values2 = values\n",
    "# values1 = values"
   ]
  },
  {
   "cell_type": "code",
   "execution_count": null,
   "metadata": {},
   "outputs": [],
   "source": [
    "feature_dict = {}\n",
    "all_values = values3 + values2 + values1\n",
    "for value_list, i in (values3, 3), (values2, 2), (values1, 1):\n",
    "    for l in value_list:\n",
    "        f = l[-3] + ', ' + l[-1]\n",
    "        if f not in feature_dict:\n",
    "            feature_dict[f] = [(1, 0), (2, 0), (3, 0)]\n",
    "        feature_dict[f][i-1] = (i, [l[1], l[2], l[4]])\n"
   ]
  },
  {
   "cell_type": "code",
   "execution_count": null,
   "metadata": {},
   "outputs": [],
   "source": [
    "for f in feature_dict:\n",
    "    print(f)\n",
    "    for i in range(3):\n",
    "        print('\\t' + str(feature_dict[f][i]))\n",
    "\n",
    "\n",
    "\n"
   ]
  },
  {
   "cell_type": "code",
   "execution_count": null,
   "metadata": {},
   "outputs": [],
   "source": [
    "s = [(f, sum([0 if not l[1] else sum([abs(float(f1)) for f1 in l[1]]) for l in feature_dict[f]])) for f in feature_dict]"
   ]
  },
  {
   "cell_type": "code",
   "execution_count": null,
   "metadata": {},
   "outputs": [],
   "source": [
    "s = sorted(s, key=lambda x: -x[1])"
   ]
  },
  {
   "cell_type": "code",
   "execution_count": null,
   "metadata": {},
   "outputs": [],
   "source": [
    "for t in s:\n",
    "    f = t[0]\n",
    "    print(f)\n",
    "    for i in range(3):\n",
    "        print('\\t' + str(feature_dict[f][i]))\n"
   ]
  },
  {
   "cell_type": "code",
   "execution_count": null,
   "metadata": {},
   "outputs": [],
   "source": []
  }
 ],
 "metadata": {
  "kernelspec": {
   "display_name": "base",
   "language": "python",
   "name": "python3"
  },
  "language_info": {
   "codemirror_mode": {
    "name": "ipython",
    "version": 3
   },
   "file_extension": ".py",
   "mimetype": "text/x-python",
   "name": "python",
   "nbconvert_exporter": "python",
   "pygments_lexer": "ipython3",
   "version": "3.10.8"
  }
 },
 "nbformat": 4,
 "nbformat_minor": 2
}
